{
 "cells": [
  {
   "attachments": {},
   "cell_type": "markdown",
   "metadata": {},
   "source": [
    "# Test Notebook\n",
    "\n",
    "This is a notebook ideally made for tests for the Sentimetrix project."
   ]
  },
  {
   "attachments": {},
   "cell_type": "markdown",
   "metadata": {},
   "source": [
    "### Preprocessing test"
   ]
  },
  {
   "cell_type": "code",
   "execution_count": 3,
   "metadata": {},
   "outputs": [
    {
     "name": "stdout",
     "output_type": "stream",
     "text": [
      "Data imported successfully with a shape of (893347, 2) 🎉\n"
     ]
    }
   ],
   "source": [
    "import sys\n",
    "import os\n",
    "\n",
    "path = os.path.abspath('../src')\n",
    "if path not in sys.path:\n",
    "  sys.path.append(path)\n",
    "  \n",
    "from config.constants import *\n",
    "from config.config import *\n",
    "from config.utils import *\n",
    "\n",
    "data = pd.read_pickle('../src/data/main_data.pkl')\n",
    "\n",
    "if len(data.all()) != 0:\n",
    "  print(f'Data imported successfully with a shape of {data.shape} 🎉')"
   ]
  },
  {
   "cell_type": "code",
   "execution_count": 4,
   "metadata": {},
   "outputs": [],
   "source": [
    "preprocessed_data = preprocessing(data.iloc[:100,:])"
   ]
  },
  {
   "cell_type": "code",
   "execution_count": 6,
   "metadata": {},
   "outputs": [
    {
     "data": {
      "text/html": [
       "<div>\n",
       "<style scoped>\n",
       "    .dataframe tbody tr th:only-of-type {\n",
       "        vertical-align: middle;\n",
       "    }\n",
       "\n",
       "    .dataframe tbody tr th {\n",
       "        vertical-align: top;\n",
       "    }\n",
       "\n",
       "    .dataframe thead th {\n",
       "        text-align: right;\n",
       "    }\n",
       "</style>\n",
       "<table border=\"1\" class=\"dataframe\">\n",
       "  <thead>\n",
       "    <tr style=\"text-align: right;\">\n",
       "      <th></th>\n",
       "      <th>text</th>\n",
       "      <th>sentiment</th>\n",
       "      <th>processed_messages</th>\n",
       "      <th>NOUN</th>\n",
       "      <th>PROPN</th>\n",
       "      <th>DET</th>\n",
       "      <th>ADJ</th>\n",
       "      <th>ADP</th>\n",
       "      <th>PRON</th>\n",
       "      <th>ADV</th>\n",
       "      <th>...</th>\n",
       "      <th>NUM</th>\n",
       "      <th>AUX</th>\n",
       "      <th>X</th>\n",
       "      <th>INTJ</th>\n",
       "      <th>PUNCT</th>\n",
       "      <th>SPACE</th>\n",
       "      <th>SYM</th>\n",
       "      <th>PART</th>\n",
       "      <th>char_count</th>\n",
       "      <th>word_count</th>\n",
       "    </tr>\n",
       "  </thead>\n",
       "  <tbody>\n",
       "    <tr>\n",
       "      <th>59</th>\n",
       "      <td>boa noite :)</td>\n",
       "      <td>positive</td>\n",
       "      <td>boa noite boa_noite</td>\n",
       "      <td>0.0</td>\n",
       "      <td>0.0</td>\n",
       "      <td>0.0</td>\n",
       "      <td>0.0</td>\n",
       "      <td>0.0</td>\n",
       "      <td>0.0</td>\n",
       "      <td>0.0</td>\n",
       "      <td>...</td>\n",
       "      <td>0.0</td>\n",
       "      <td>0.0</td>\n",
       "      <td>2.0</td>\n",
       "      <td>0.0</td>\n",
       "      <td>0.0</td>\n",
       "      <td>0.0</td>\n",
       "      <td>0.0</td>\n",
       "      <td>0.0</td>\n",
       "      <td>9</td>\n",
       "      <td>5</td>\n",
       "    </tr>\n",
       "    <tr>\n",
       "      <th>5</th>\n",
       "      <td>@BadWolf_Wagner @DanieVedo Eu entendi, mas iss...</td>\n",
       "      <td>positive</td>\n",
       "      <td>badwolf wagner danievedo eu entendi mas isso f...</td>\n",
       "      <td>0.0</td>\n",
       "      <td>15.0</td>\n",
       "      <td>0.0</td>\n",
       "      <td>0.0</td>\n",
       "      <td>1.0</td>\n",
       "      <td>0.0</td>\n",
       "      <td>0.0</td>\n",
       "      <td>...</td>\n",
       "      <td>0.0</td>\n",
       "      <td>0.0</td>\n",
       "      <td>0.0</td>\n",
       "      <td>0.0</td>\n",
       "      <td>0.0</td>\n",
       "      <td>0.0</td>\n",
       "      <td>0.0</td>\n",
       "      <td>0.0</td>\n",
       "      <td>87</td>\n",
       "      <td>1</td>\n",
       "    </tr>\n",
       "    <tr>\n",
       "      <th>73</th>\n",
       "      <td>So queria morrer um pouco, tipo pra sempre :)</td>\n",
       "      <td>positive</td>\n",
       "      <td>queria morrer um pouco tipo pra sempre so_quer...</td>\n",
       "      <td>0.0</td>\n",
       "      <td>2.0</td>\n",
       "      <td>0.0</td>\n",
       "      <td>0.0</td>\n",
       "      <td>0.0</td>\n",
       "      <td>0.0</td>\n",
       "      <td>1.0</td>\n",
       "      <td>...</td>\n",
       "      <td>0.0</td>\n",
       "      <td>0.0</td>\n",
       "      <td>4.0</td>\n",
       "      <td>1.0</td>\n",
       "      <td>0.0</td>\n",
       "      <td>0.0</td>\n",
       "      <td>0.0</td>\n",
       "      <td>0.0</td>\n",
       "      <td>41</td>\n",
       "      <td>6</td>\n",
       "    </tr>\n",
       "  </tbody>\n",
       "</table>\n",
       "<p>3 rows × 23 columns</p>\n",
       "</div>"
      ],
      "text/plain": [
       "                                                 text sentiment   \n",
       "59                                       boa noite :)  positive  \\\n",
       "5   @BadWolf_Wagner @DanieVedo Eu entendi, mas iss...  positive   \n",
       "73      So queria morrer um pouco, tipo pra sempre :)  positive   \n",
       "\n",
       "                                   processed_messages  NOUN  PROPN  DET  ADJ   \n",
       "59                                boa noite boa_noite   0.0    0.0  0.0  0.0  \\\n",
       "5   badwolf wagner danievedo eu entendi mas isso f...   0.0   15.0  0.0  0.0   \n",
       "73  queria morrer um pouco tipo pra sempre so_quer...   0.0    2.0  0.0  0.0   \n",
       "\n",
       "    ADP  PRON  ADV  ...  NUM  AUX    X  INTJ  PUNCT  SPACE  SYM  PART   \n",
       "59  0.0   0.0  0.0  ...  0.0  0.0  2.0   0.0    0.0    0.0  0.0   0.0  \\\n",
       "5   1.0   0.0  0.0  ...  0.0  0.0  0.0   0.0    0.0    0.0  0.0   0.0   \n",
       "73  0.0   0.0  1.0  ...  0.0  0.0  4.0   1.0    0.0    0.0  0.0   0.0   \n",
       "\n",
       "    char_count  word_count  \n",
       "59           9           5  \n",
       "5           87           1  \n",
       "73          41           6  \n",
       "\n",
       "[3 rows x 23 columns]"
      ]
     },
     "execution_count": 6,
     "metadata": {},
     "output_type": "execute_result"
    }
   ],
   "source": [
    "preprocessed_data.sample(3)"
   ]
  },
  {
   "cell_type": "code",
   "execution_count": null,
   "metadata": {},
   "outputs": [],
   "source": []
  }
 ],
 "metadata": {
  "kernelspec": {
   "display_name": ".venv",
   "language": "python",
   "name": "python3"
  },
  "language_info": {
   "codemirror_mode": {
    "name": "ipython",
    "version": 3
   },
   "file_extension": ".py",
   "mimetype": "text/x-python",
   "name": "python",
   "nbconvert_exporter": "python",
   "pygments_lexer": "ipython3",
   "version": "3.10.6"
  },
  "orig_nbformat": 4
 },
 "nbformat": 4,
 "nbformat_minor": 2
}
