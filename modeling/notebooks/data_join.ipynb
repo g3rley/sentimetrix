{
 "cells": [
  {
   "attachments": {},
   "cell_type": "markdown",
   "metadata": {},
   "source": [
    "## Data Join\n",
    "\n",
    "This notebook is part of the Sentimetrix project. It aims to join the cleaned datasets collected in order to train the model."
   ]
  },
  {
   "attachments": {},
   "cell_type": "markdown",
   "metadata": {},
   "source": [
    "### Import Libraries\n",
    "\n",
    "The first step is to import the necessary libraries."
   ]
  },
  {
   "cell_type": "code",
   "execution_count": null,
   "metadata": {},
   "outputs": [],
   "source": [
    "import pandas as pd"
   ]
  },
  {
   "attachments": {},
   "cell_type": "markdown",
   "metadata": {},
   "source": [
    "### File Paths\n",
    "\n",
    "File paths for the cleaned datasets are defined as a list. You can modify the paths to match your directory structure."
   ]
  },
  {
   "cell_type": "code",
   "execution_count": 3,
   "metadata": {},
   "outputs": [],
   "source": [
    "# File paths to cleaned data files\n",
    "file_paths = [\n",
    "    '../data/cleaned/portuguese_data.csv',\n",
    "    '../data/cleaned/financial_data.csv',\n",
    "    '../data/cleaned/twitter_data.csv',\n",
    "    '../data/cleaned/movies_data.csv'\n",
    "]"
   ]
  },
  {
   "attachments": {},
   "cell_type": "markdown",
   "metadata": {},
   "source": [
    "### Read Datasets\n",
    "\n",
    "The datasets are read from the CSV files using a loop. Each file is read into a separate DataFrame, stored in the _datasets_ list."
   ]
  },
  {
   "cell_type": "code",
   "execution_count": null,
   "metadata": {},
   "outputs": [],
   "source": [
    "# Read the data files into a list of DataFrames\n",
    "datasets = [pd.read_csv(file) for file in file_paths]"
   ]
  },
  {
   "attachments": {},
   "cell_type": "markdown",
   "metadata": {},
   "source": [
    "### Concatenate Datasets\n",
    "\n",
    "The datasets are concatenated along the rows using _pd.concat()_, and only the 'text' and 'sentiment' columns are selected for the final dataframe."
   ]
  },
  {
   "cell_type": "code",
   "execution_count": null,
   "metadata": {},
   "outputs": [],
   "source": [
    "# Concatenate datasets into one dataframe\n",
    "main_df = pd.concat(datasets, ignore_index=True)[['text', 'sentiment']]\n",
    "\n",
    "# Show the first 5 rows\n",
    "main_df.head()"
   ]
  },
  {
   "attachments": {},
   "cell_type": "markdown",
   "metadata": {},
   "source": [
    "### Save Concatenated Data\n",
    "\n",
    "The concatenated data is saved as both a CSV file and a Pickle file."
   ]
  },
  {
   "cell_type": "code",
   "execution_count": null,
   "metadata": {},
   "outputs": [],
   "source": [
    "# Save concatenated data as CSV\n",
    "csv_path = '../data/cleaned/main_data.csv'\n",
    "main_df.to_csv(csv_path, index=False)\n",
    "\n",
    "# Save concatenated data as Pickle\n",
    "pickle_path = '../data/cleaned/main_data.pkl'\n",
    "main_df.to_pickle(pickle_path)"
   ]
  },
  {
   "attachments": {},
   "cell_type": "markdown",
   "metadata": {},
   "source": [
    "### Display Concatenated Dataframe\n",
    "\n",
    "The concatenated dataframe, _main_df_, is displayed below for visual inspection."
   ]
  },
  {
   "cell_type": "code",
   "execution_count": null,
   "metadata": {},
   "outputs": [],
   "source": [
    "main_df"
   ]
  }
 ],
 "metadata": {
  "kernelspec": {
   "display_name": "Python 3",
   "language": "python",
   "name": "python3"
  },
  "language_info": {
   "codemirror_mode": {
    "name": "ipython",
    "version": 3
   },
   "file_extension": ".py",
   "mimetype": "text/x-python",
   "name": "python",
   "nbconvert_exporter": "python",
   "pygments_lexer": "ipython3",
   "version": "3.8.10"
  },
  "orig_nbformat": 4
 },
 "nbformat": 4,
 "nbformat_minor": 2
}
